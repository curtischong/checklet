{
 "cells": [
  {
   "cell_type": "code",
   "execution_count": 2,
   "id": "aee25d13",
   "metadata": {},
   "outputs": [
    {
     "name": "stdout",
     "output_type": "stream",
     "text": [
      "You could say \n",
      "that \n",
      "they regularly catch a shower , \n",
      "which \n",
      "adds to their exhilaration and joie de vivre\n",
      " .\n"
     ]
    }
   ],
   "source": [
    "# https://stackoverflow.com/questions/39320015/how-to-split-an-nlp-parse-tree-to-clauses-independent-and-subordinate\n",
    "from nltk import Tree\n",
    "\n",
    "parse_str = \"(ROOT (S (NP (PRP You)) (VP (MD could) (VP (VB say) (SBAR (IN that) (S (NP (PRP they)) (ADVP (RB regularly)) (VP (VB catch) (NP (NP (DT a) (NN shower)) (, ,) (SBAR (WHNP (WDT which)) (S (VP (VBZ adds) (PP (TO to) (NP (NP (PRP$ their) (NN exhilaration)) (CC and) (NP (FW joie) (FW de) (FW vivre))))))))))))) (. .)))\"\n",
    "#parse_str = \"(ROOT (S (SBAR (IN Though) (S (NP (PRP he)) (VP (VBD was) (ADJP (RB very) (JJ rich))))) (, ,) (NP (PRP he)) (VP (VBD was) (ADVP (RB still)) (ADJP (RB very) (JJ unhappy))) (. .)))\"\n",
    "\n",
    "t = Tree.fromstring(parse_str)\n",
    "#print t\n",
    "\n",
    "subtexts = []\n",
    "for subtree in t.subtrees():\n",
    "    if subtree.label()==\"S\" or subtree.label()==\"SBAR\":\n",
    "        #print subtree.leaves()\n",
    "        subtexts.append(' '.join(subtree.leaves()))\n",
    "#print subtexts\n",
    "\n",
    "presubtexts = subtexts[:]       # ADDED IN EDIT for leftover check\n",
    "\n",
    "for i in reversed(range(len(subtexts)-1)):\n",
    "    subtexts[i] = subtexts[i][0:subtexts[i].index(subtexts[i+1])]\n",
    "\n",
    "for text in subtexts:\n",
    "    print(text)\n",
    "\n",
    "# ADDED IN EDIT - Not sure for generalized cases\n",
    "leftover = presubtexts[0][presubtexts[0].index(presubtexts[1])+len(presubtexts[1]):]\n",
    "print(leftover)"
   ]
  },
  {
   "cell_type": "code",
   "execution_count": 3,
   "id": "b8c2362e",
   "metadata": {},
   "outputs": [],
   "source": [
    "# from https://github.com/rahulkg31/sentence-to-clauses/blob/master/sent_to_clauses.py\n",
    "import nltk\n",
    "import re\n",
    "from nltk.tree import ParentedTree\n",
    "from pycorenlp import *\n",
    "# start the connection here\n",
    "nlp=StanfordCoreNLP(\"http://0.0.0.0:9000/\")\n",
    "import json"
   ]
  },
  {
   "cell_type": "code",
   "execution_count": 16,
   "id": "66772425",
   "metadata": {},
   "outputs": [
    {
     "name": "stdout",
     "output_type": "stream",
     "text": [
      "(ROOT\n",
      "  (S\n",
      "    (NP\n",
      "      (NP (NNP Automated))\n",
      "      (VP\n",
      "        (VBG inserting)\n",
      "        (CC and)\n",
      "        (VBG categorizing)\n",
      "        (NP (JJ 20k) (NNS emails))\n",
      "        (PP\n",
      "          (IN from)\n",
      "          (NP\n",
      "            (NP (QP (RB over) (CD 200)) (NNS clients))\n",
      "            (PP (IN in) (NP (DT a) (NNP CRM)))))\n",
      "        (PP\n",
      "          (IN by)\n",
      "          (S\n",
      "            (VP\n",
      "              (VBG creating)\n",
      "              (NP (DT an) (NN email) (NN monitoring)))))))\n",
      "    (VP\n",
      "      (VP\n",
      "        (VBD REST)\n",
      "        (NP (NN API))\n",
      "        (S (VP (VBG using) (NP (NNP Express)))))\n",
      "      (, ,)\n",
      "      (CC and)\n",
      "      (VP\n",
      "        (VBD deployed)\n",
      "        (NP (DT the) (NN service))\n",
      "        (PP\n",
      "          (IN on)\n",
      "          (NP\n",
      "            (NP (NNP Azure) (NNP Cloud))\n",
      "            (PP (IN with) (NP (NNP Docker)))))))\n",
      "    (. .)))\n",
      "3\n",
      "Automated inserting and categorizing 20k emails from over 200 clients in a CRM by creating an email monitoring REST API using Express , and deployed the service on Azure Cloud with Docker .\n",
      "creating an email monitoring\n",
      "using Express\n"
     ]
    }
   ],
   "source": [
    "#sent = \"he plays cricket but does not play hockey.\"\n",
    "sent = \"Automated inserting and categorizing 20k+ emails from over 200 clients in a CRM by creating an email monitoring REST API using Express, and deployed the service on Azure Cloud with Docker.\"\n",
    "parser = nlp.annotate(sent, properties={\"annotators\": \"parse\", \"outputFormat\": \"json\"})\n",
    "parser = json.loads(parser)\n",
    "t = ParentedTree.fromstring(parser[\"sentences\"][0][\"parse\"])\n",
    "print(t)\n",
    "#t = Tree.fromstring(parse_str)\n",
    "#print t\n",
    "\n",
    "subtexts = []\n",
    "for subtree in t.subtrees():\n",
    "    if subtree.label() in [\"S\", \"SBAR\"]:\n",
    "        #print subtree.leaves()\n",
    "        subtexts.append(' '.join(subtree.leaves()))\n",
    "print(len(subtexts))\n",
    "#print subtexts\n",
    "\n",
    "#presubtexts = subtexts[:]       # ADDED IN EDIT for leftover check\n",
    "\n",
    "#for i in reversed(range(len(subtexts)-1)):\n",
    "#    subtexts[i] = subtexts[i][0:subtexts[i].index(subtexts[i+1])]\n",
    "\n",
    "for text in subtexts:\n",
    "    print(text)\n",
    "\n",
    "# ADDED IN EDIT - Not sure for generalized cases\n",
    "#leftover = presubtexts[0][presubtexts[0].index(presubtexts[1])+len(presubtexts[1]):]\n",
    "#print(leftover)"
   ]
  },
  {
   "cell_type": "markdown",
   "id": "a7669685",
   "metadata": {},
   "source": [
    "Ideas:\n",
    "\n",
    "1) get the subtrees for sentence S\n",
    "2) split it on adpositions (e.g. \"by\") to get more clauses\n",
    "\n",
    "\n",
    "1) we use verbs to find the splits for clauses (each clause is in betweeen verbs\n",
    "2) somce verbs aren't important: e.g. \"using express\"."
   ]
  }
 ],
 "metadata": {
  "kernelspec": {
   "display_name": "Python 3 (ipykernel)",
   "language": "python",
   "name": "python3"
  },
  "language_info": {
   "codemirror_mode": {
    "name": "ipython",
    "version": 3
   },
   "file_extension": ".py",
   "mimetype": "text/x-python",
   "name": "python",
   "nbconvert_exporter": "python",
   "pygments_lexer": "ipython3",
   "version": "3.9.13"
  }
 },
 "nbformat": 4,
 "nbformat_minor": 5
}
