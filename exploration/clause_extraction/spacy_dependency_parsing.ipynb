{
 "cells": [
  {
   "cell_type": "code",
   "execution_count": 3,
   "id": "eb817564",
   "metadata": {},
   "outputs": [
    {
     "name": "stdout",
     "output_type": "stream",
     "text": [
      "nsubj\t0\tYou\tPRP\tsay\tVB\t10\tYou\t\n",
      "aux\t4\tcould\tMD\tsay\tVB\t10\tcould\t\n",
      "ROOT\t10\tsay\tVB\tsay\tVB\t10\tYou could say that they regularly catch a shower , which adds to their exhilaration and joie de vivre .\tYou could catch .\n",
      "mark\t14\tthat\tIN\tcatch\tVBP\t34\tthat\t\n",
      "nsubj\t19\tthey\tPRP\tcatch\tVBP\t34\tthey\t\n",
      "advmod\t24\tregularly\tRB\tcatch\tVBP\t34\tregularly\t\n",
      "ccomp\t34\tcatch\tVBP\tsay\tVB\t10\tthat they regularly catch a shower , which adds to their exhilaration and joie de vivre\tthat they regularly shower , adds\n",
      "det\t40\ta\tDT\tshower\tNN\t42\ta\t\n",
      "dobj\t42\tshower\tNN\tcatch\tVBP\t34\ta shower\ta\n",
      "punct\t49\t,\t,\tcatch\tVBP\t34\t,\t\n",
      "nsubj\t51\twhich\tWDT\tadds\tVBZ\t57\twhich\t\n",
      "advcl\t57\tadds\tVBZ\tcatch\tVBP\t34\twhich adds to their exhilaration and joie de vivre\twhich to\n",
      "prep\t62\tto\tIN\tadds\tVBZ\t57\tto their exhilaration and joie de vivre\texhilaration\n",
      "poss\t65\ttheir\tPRP$\texhilaration\tNN\t71\ttheir\t\n",
      "pobj\t71\texhilaration\tNN\tto\tIN\t62\ttheir exhilaration and joie de vivre\ttheir and vivre\n",
      "cc\t84\tand\tCC\texhilaration\tNN\t71\tand\t\n",
      "compound\t88\tjoie\tNNP\tvivre\tNN\t96\tjoie\t\n",
      "compound\t93\tde\tNNP\tvivre\tNN\t96\tde\t\n",
      "conj\t96\tvivre\tNN\texhilaration\tNN\t71\tjoie de vivre\tjoie de\n",
      "punct\t101\t.\t.\tsay\tVB\t10\t.\t\n"
     ]
    }
   ],
   "source": [
    "# https://stackoverflow.com/questions/49371180/how-to-get-a-parse-nlp-tree-object-from-bracketed-parse-string-with-nltk-or-spac\n",
    "import spacy\n",
    "\n",
    "nlp = spacy.load('en_core_web_md')\n",
    "\n",
    "text = 'You could say that they regularly catch a shower , which adds to their exhilaration and joie de vivre.'\n",
    "\n",
    "for token in nlp(text):\n",
    "    print(token.dep_, end='\\t')\n",
    "    print(token.idx, end='\\t')\n",
    "    print(token.text, end='\\t')\n",
    "    print(token.tag_, end='\\t')\n",
    "    print(token.head.text, end='\\t')\n",
    "    print(token.head.tag_, end='\\t')\n",
    "    print(token.head.idx, end='\\t')\n",
    "    print(' '.join([w.text for w in token.subtree]), end='\\t')\n",
    "    print(' '.join([w.text for w in token.children]))"
   ]
  },
  {
   "cell_type": "code",
   "execution_count": null,
   "id": "59f60acd",
   "metadata": {},
   "outputs": [],
   "source": [
    "doc = nlp(\"This is a sentence.\")\n",
    "parser = nlp.add_pipe(\"parser\")\n",
    "# This usually happens under the hood\n",
    "processed = parser(doc)"
   ]
  },
  {
   "cell_type": "code",
   "execution_count": null,
   "id": "7ddf9d0a",
   "metadata": {},
   "outputs": [],
   "source": []
  }
 ],
 "metadata": {
  "kernelspec": {
   "display_name": "Python 3 (ipykernel)",
   "language": "python",
   "name": "python3"
  },
  "language_info": {
   "codemirror_mode": {
    "name": "ipython",
    "version": 3
   },
   "file_extension": ".py",
   "mimetype": "text/x-python",
   "name": "python",
   "nbconvert_exporter": "python",
   "pygments_lexer": "ipython3",
   "version": "3.9.13"
  }
 },
 "nbformat": 4,
 "nbformat_minor": 5
}
