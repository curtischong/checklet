{
 "cells": [
  {
   "cell_type": "code",
   "execution_count": 2,
   "id": "fc8fbd3a",
   "metadata": {},
   "outputs": [
    {
     "name": "stdout",
     "output_type": "stream",
     "text": [
      "VBD Did\n",
      "NNP Matt\n",
      "VB win\n",
      "DT the\n",
      "NNS men\n",
      "NN slalom\n",
      ". ?\n"
     ]
    }
   ],
   "source": [
    "# https://stackoverflow.com/questions/22877567/how-do-i-reach-the-leaves-of-the-tree-generatod-by-a-stanford-parser-in-python\n",
    "    \n",
    "# class for tree nodes\n",
    "class Node:\n",
    "    def __init__(self,start):\n",
    "        self.start = start\n",
    "        self.children = []\n",
    "        self.text = ''\n",
    "\n",
    "# make a tree        \n",
    "def make_tree(s):\n",
    "    stack = []\n",
    "    nodes = []\n",
    "    cur = None\n",
    "    root = None    \n",
    "\n",
    "    for i, c in enumerate(s):\n",
    "        if c == '(':\n",
    "            cur = Node(i)\n",
    "            if stack:\n",
    "                stack[-1].children.append(cur)\n",
    "            stack.append(cur)\n",
    "\n",
    "            if root is None:\n",
    "                root = cur\n",
    "\n",
    "        elif c == ')' and stack:\n",
    "            topnode = stack.pop()\n",
    "\n",
    "            text = s[topnode.start + 1: i]\n",
    "            topnode.text = text\n",
    "\n",
    "    return root\n",
    "\n",
    "# list of leaves\n",
    "def list_of_leaves(node):\n",
    "    result = []\n",
    "    for child in node.children:\n",
    "        result.extend(list_of_leaves(child))\n",
    "    if not result:\n",
    "        return [node]\n",
    "\n",
    "    return result\n",
    "\n",
    "s = \"\"\"(ROOT\n",
    "  (SQ (VBD Did)\n",
    "    (NP (NNP Matt))\n",
    "    (VP (VB win)\n",
    "      (NP (DT the) (NNS men) (NN slalom)))\n",
    "    (. ?)))\"\"\"\n",
    "\n",
    "root = make_tree(s)    \n",
    "\n",
    "for node in list_of_leaves(root):\n",
    "    print(node.text)"
   ]
  },
  {
   "cell_type": "code",
   "execution_count": null,
   "id": "2414a401",
   "metadata": {},
   "outputs": [],
   "source": []
  }
 ],
 "metadata": {
  "kernelspec": {
   "display_name": "Python 3 (ipykernel)",
   "language": "python",
   "name": "python3"
  },
  "language_info": {
   "codemirror_mode": {
    "name": "ipython",
    "version": 3
   },
   "file_extension": ".py",
   "mimetype": "text/x-python",
   "name": "python",
   "nbconvert_exporter": "python",
   "pygments_lexer": "ipython3",
   "version": "3.9.13"
  }
 },
 "nbformat": 4,
 "nbformat_minor": 5
}
