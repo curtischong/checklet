{
 "cells": [
  {
   "cell_type": "code",
   "execution_count": 3,
   "outputs": [
    {
     "name": "stdout",
     "output_type": "stream",
     "text": [
      "2022-06-28 13:29:47,300 loading file /Users/curtischong/.flair/models/tars-base-v8.pt\n"
     ]
    }
   ],
   "source": [
    "from flair.data import Sentence\n",
    "from flair.models import TARSClassifier\n",
    "\n",
    "# 1. Load our pre-trained TARS model for English\n",
    "tars = TARSClassifier.load('tars-base')\n"
   ],
   "metadata": {
    "collapsed": false,
    "pycharm": {
     "name": "#%%\n"
    }
   }
  },
  {
   "cell_type": "code",
   "execution_count": 11,
   "outputs": [],
   "source": [
    "action_verbs = [\"Chaired\",\n",
    "                \"Controlled\",\n",
    "                \"Coordinated\",\n",
    "                \"Executed\",\n",
    "                \"Headed\",\n",
    "                \"Operated\",\n",
    "                \"Orchestrated\",\n",
    "                \"Organized\",\n",
    "                \"Oversaw\",\n",
    "                \"Planned\",\n",
    "                \"Produced\",\n",
    "                \"Programmed\",\n",
    "                \"Administered\",\n",
    "                \"Built\",\n",
    "                \"Charted\",\n",
    "                \"Created\",\n",
    "                \"Designed\",\n",
    "                \"Developed\",\n",
    "                \"Devised\",\n",
    "                \"Founded\",\n",
    "                \"Engineered\",\n",
    "                \"Established\",\n",
    "                \"Formalized\",\n",
    "                \"Formed\",\n",
    "                \"Formulated\",\n",
    "                \"Implemented\",\n",
    "                \"Incorporated\",\n",
    "                \"Initiated\",\n",
    "                \"Instituted\",\n",
    "                \"Introduced\",\n",
    "                \"Launched\",\n",
    "                \"Pioneered\",\n",
    "                \"Spearheaded\",\n",
    "                \"Conserved\",\n",
    "                \"Consolidated\",\n",
    "                \"Decreased\",\n",
    "                \"Deducted\",\n",
    "                \"Diagnosed\",\n",
    "                \"Lessened\",\n",
    "                \"Reconciled\",\n",
    "                \"Reduced\",\n",
    "                \"Yielded\",\n",
    "                \"Accelerated\",\n",
    "                \"Achieved\",\n",
    "                \"Advanced\",\n",
    "                \"Amplified\",\n",
    "                \"Boosted\",\n",
    "                \"Capitalized\",\n",
    "                \"Delivered\",\n",
    "                \"Enhanced\",\n",
    "                \"Expanded\",\n",
    "                \"Expedited\",\n",
    "                \"Furthered\",\n",
    "                \"Gained\",\n",
    "                \"Generated\",\n",
    "                \"Improved\",\n",
    "                \"Lifted\",\n",
    "                \"Maximized\",\n",
    "                \"Outpaced\",\n",
    "                \"Stimulated\",\n",
    "                \"Sustained\",\n",
    "                \"Centralized\",\n",
    "                \"Clarified\",\n",
    "                \"Converted\",\n",
    "                \"Customized\",\n",
    "                \"Influenced\",\n",
    "                \"Integrated\",\n",
    "                \"Merged\",\n",
    "                \"Modified\",\n",
    "                \"Overhauled\",\n",
    "                \"Redesigned\",\n",
    "                \"Refined\",\n",
    "                \"Refocused\",\n",
    "                \"Rehabilitated\",\n",
    "                \"Remodeled\",\n",
    "                \"Reorganized\",\n",
    "                \"Replaced\",\n",
    "                \"Restructured\",\n",
    "                \"Revamped\",\n",
    "                \"Revitalized\",\n",
    "                \"Simplified\",\n",
    "                \"Standardized\",\n",
    "                \"Streamlined\",\n",
    "                \"Strengthened\",\n",
    "                \"Updated\",\n",
    "                \"Upgraded\",\n",
    "                \"Transformed\",\n",
    "                \"Aligned\",\n",
    "                \"Cultivated\",\n",
    "                \"Directed\",\n",
    "                \"Enabled\",\n",
    "                \"Facilitated\",\n",
    "                \"Fostered\",\n",
    "                \"Guided\",\n",
    "                \"Hired\",\n",
    "                \"Inspired\",\n",
    "                \"Mentored\",\n",
    "                \"Mobilized\",\n",
    "                \"Motivated\",\n",
    "                \"Recruited\",\n",
    "                \"Regulated\",\n",
    "                \"Shaped\",\n",
    "                \"Supervised\",\n",
    "                \"Taught\",\n",
    "                \"Trained\",\n",
    "                \"Unified\",\n",
    "                \"United\",\n",
    "                \"Acquired\",\n",
    "                \"Forged\",\n",
    "                \"Navigated\",\n",
    "                \"Negotiated\",\n",
    "                \"Partnered\",\n",
    "                \"Secured\",\n",
    "                \"Advised\",\n",
    "                \"Advocated\",\n",
    "                \"Arbitrated\",\n",
    "                \"Coached\",\n",
    "                \"Consulted\",\n",
    "                \"Educated\",\n",
    "                \"Fielded\",\n",
    "                \"Informed\",\n",
    "                \"Resolved\",\n",
    "                \"Analyzed\",\n",
    "                \"Assembled\",\n",
    "                \"Assessed\",\n",
    "                \"Audited\",\n",
    "                \"Calculated\",\n",
    "                \"Discovered\",\n",
    "                \"Evaluated\",\n",
    "                \"Examined\",\n",
    "                \"Explored\",\n",
    "                \"Forecasted\",\n",
    "                \"Identified\",\n",
    "                \"Interpreted\",\n",
    "                \"Investigated\",\n",
    "                \"Mapped\",\n",
    "                \"Measured\",\n",
    "                \"Qualified\",\n",
    "                \"Quantified\",\n",
    "                \"Surveyed\",\n",
    "                \"Tested\",\n",
    "                \"Tracked\",\n",
    "                \"Authored\",\n",
    "                \"Briefed\",\n",
    "                \"Campaigned\",\n",
    "                \"Co-authored\",\n",
    "                \"Composed\",\n",
    "                \"Conveyed\",\n",
    "                \"Convinced\",\n",
    "                \"Corresponded\",\n",
    "                \"Counseled\",\n",
    "                \"Critiqued\",\n",
    "                \"Defined\",\n",
    "                \"Documented\",\n",
    "                \"Edited\",\n",
    "                \"Illustrated\",\n",
    "                \"Lobbied\",\n",
    "                \"Persuaded\",\n",
    "                \"Promoted\",\n",
    "                \"Publicized\",\n",
    "                \"Reviewed\",\n",
    "                \"Authorized\",\n",
    "                \"Blocked\",\n",
    "                \"Delegated\",\n",
    "                \"Dispatched\",\n",
    "                \"Enforced\",\n",
    "                \"Ensured\",\n",
    "                \"Inspected\",\n",
    "                \"Itemized\",\n",
    "                \"Monitored\",\n",
    "                \"Screened\",\n",
    "                \"Scrutinized\",\n",
    "                \"Verified\",\n",
    "                \"Attained\",\n",
    "                \"Awarded\",\n",
    "                \"Completed\",\n",
    "                \"Demonstrated\",\n",
    "                \"Earned\",\n",
    "                \"Exceeded\",\n",
    "                \"Outperformed\",\n",
    "                \"Reached\",\n",
    "                \"Showcased\",\n",
    "                \"Succeeded\",\n",
    "                \"Surpassed\",\n",
    "                \"Targeted\"]"
   ],
   "metadata": {
    "collapsed": false,
    "pycharm": {
     "name": "#%%\n"
    }
   }
  },
  {
   "cell_type": "code",
   "execution_count": 21,
   "outputs": [
    {
     "name": "stdout",
     "output_type": "stream",
     "text": [
      "Sentence: \"designed worked\" → Coordinated (0.8452); Organized (0.7979); Built (0.9701); Designed (0.9871); Enhanced (0.5742); Improved (0.9028); Integrated (0.6651); Updated (0.5845); Co-authored (0.5317); Completed (0.7384)\n"
     ]
    }
   ],
   "source": [
    "# 2. Prepare a test sentence\n",
    "#sentence = Sentence(\"designed implemented\")\n",
    "#sentence = Sentence(\"led organized\")\n",
    "sentence = Sentence(\"designed worked\")\n",
    "\n",
    "# 3. Define some classes that you want to predict using descriptive names\n",
    "\n",
    "# from https://www.themuse.com/advice/185-powerful-verbs-that-will-make-your-resume-awesome\n",
    "\n",
    "\n",
    "classes = action_verbs\n",
    "#4. Predict for these classes\n",
    "tars.predict_zero_shot(sentence, classes)\n",
    "\n",
    "# Print sentence with predicted labels\n",
    "print(sentence)"
   ],
   "metadata": {
    "collapsed": false,
    "pycharm": {
     "name": "#%%\n"
    }
   }
  },
  {
   "cell_type": "code",
   "execution_count": 22,
   "outputs": [
    {
     "name": "stdout",
     "output_type": "stream",
     "text": [
      "Sentence: \"designed worked\" → Designed (0.9871)\n",
      "Sentence: \"designed worked\" → Built (0.9701)\n",
      "Sentence: \"designed worked\" → Improved (0.9028)\n",
      "Sentence: \"designed worked\" → Coordinated (0.8452)\n",
      "Sentence: \"designed worked\" → Organized (0.7979)\n",
      "Sentence: \"designed worked\" → Completed (0.7384)\n",
      "Sentence: \"designed worked\" → Integrated (0.6651)\n",
      "Sentence: \"designed worked\" → Updated (0.5845)\n",
      "Sentence: \"designed worked\" → Enhanced (0.5742)\n",
      "Sentence: \"designed worked\" → Co-authored (0.5317)\n"
     ]
    }
   ],
   "source": [
    "sorted_sentences = sorted(sentence.labels, key=lambda x: x.score, reverse=True)\n",
    "for sent in sorted_sentences:\n",
    "    print(sent)"
   ],
   "metadata": {
    "collapsed": false,
    "pycharm": {
     "name": "#%%\n"
    }
   }
  },
  {
   "cell_type": "code",
   "execution_count": 36,
   "outputs": [
    {
     "name": "stdout",
     "output_type": "stream",
     "text": [
      "Sentence: \"I am so glad you liked it !\" → happy (0.8667)\n"
     ]
    }
   ],
   "source": [
    "# 2. Prepare a test sentence\n",
    "sentence = Sentence(\"I am so glad you liked it!\")\n",
    "\n",
    "# 3. Define some classes that you want to predict using descriptive names\n",
    "#classes = [\"happy\"]\n",
    "#classes = [\"happy\", \"sad\", \"angry\", \"sus\", \"what\"]\n",
    "#classes = [\"happy\", \"sad\", \"angry\", \"sus\", \"what\", \"weird\", \"is\", \"yay\", \"angry\", \"long\", \"slow\"]\n",
    "\n",
    "#4. Predict for these classes\n",
    "tars.predict_zero_shot(sentence, classes)\n",
    "\n",
    "# Print sentence with predicted labels\n",
    "print(sentence)"
   ],
   "metadata": {
    "collapsed": false,
    "pycharm": {
     "name": "#%%\n"
    }
   }
  }
 ],
 "metadata": {
  "kernelspec": {
   "name": "venv",
   "language": "python",
   "display_name": "venv"
  },
  "language_info": {
   "codemirror_mode": {
    "name": "ipython",
    "version": 2
   },
   "file_extension": ".py",
   "mimetype": "text/x-python",
   "name": "python",
   "nbconvert_exporter": "python",
   "pygments_lexer": "ipython2",
   "version": "2.7.6"
  }
 },
 "nbformat": 4,
 "nbformat_minor": 0
}