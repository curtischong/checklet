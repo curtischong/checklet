{
 "cells": [
  {
   "cell_type": "code",
   "execution_count": 4,
   "outputs": [
    {
     "name": "stderr",
     "output_type": "stream",
     "text": [
      "Loading the LM will be faster if you build a binary file.\n",
      "Reading /Users/curtischong/Documents/nautilus/exploration/phrase_probability/ngram-lm/arpa/wiki-interpolate.3gram.arpa\n",
      "----5---10---15---20---25---30---35---40---45---50---55---60---65---70---75---80---85---90---95--100\n",
      "****************************************************************************************************\n"
     ]
    }
   ],
   "source": [
    "import kenlm\n",
    "\n",
    "model = kenlm.Model('ngram-lm/arpa/wiki-interpolate.3gram.arpa')"
   ],
   "metadata": {
    "collapsed": false,
    "pycharm": {
     "name": "#%%\n"
    }
   }
  },
  {
   "cell_type": "markdown",
   "source": [
    "How to generate the Arpa file:\n",
    "\n",
    "https://lukesalamone.github.io/posts/running-simple-language-model/\n",
    "\n",
    "```git clone git@github.com:daandouwe/ngram-lm.git\n",
    "cd ngram-lm\n",
    "mkdir data\n",
    "./get-data.sh\n",
    "mkdir arpa\n",
    "./main.py --order 3 --interpolate --save-arpa --name wiki-interpolate```"
   ],
   "metadata": {
    "collapsed": false,
    "pycharm": {
     "name": "#%% md\n"
    }
   }
  },
  {
   "cell_type": "code",
   "execution_count": 7,
   "outputs": [
    {
     "name": "stdout",
     "output_type": "stream",
     "text": [
      "-44.43109893798828\n"
     ]
    }
   ],
   "source": [
    "#sent = \"In ice hockey, the Colorado Avalanche defeat the Tampa Bay Lightning to win the Stanley Cup (Conn Smythe Trophy winner Cale Makar pictured).\"\n",
    "sent = \"Carsten Borchgrevink (1864–1934) was an Anglo-Norwegian polar explorer and a pioneer of modern Antarctic travel.\"\n",
    "print(model.score(sent, bos=True, eos=True))"
   ],
   "metadata": {
    "collapsed": false,
    "pycharm": {
     "name": "#%%\n"
    }
   }
  }
 ],
 "metadata": {
  "kernelspec": {
   "display_name": "Python 3",
   "language": "python",
   "name": "python3"
  },
  "language_info": {
   "codemirror_mode": {
    "name": "ipython",
    "version": 2
   },
   "file_extension": ".py",
   "mimetype": "text/x-python",
   "name": "python",
   "nbconvert_exporter": "python",
   "pygments_lexer": "ipython2",
   "version": "2.7.6"
  }
 },
 "nbformat": 4,
 "nbformat_minor": 0
}