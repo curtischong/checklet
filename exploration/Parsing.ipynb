{
 "cells": [
  {
   "cell_type": "code",
   "execution_count": 4,
   "id": "8b41fd46",
   "metadata": {
    "pycharm": {
     "name": "#%%\n"
    }
   },
   "outputs": [
    {
     "name": "stdout",
     "output_type": "stream",
     "text": [
      "<class 'spacy.tokens.doc.Doc'>\n"
     ]
    }
   ],
   "source": [
    "import spacy\n",
    "import deplacy\n",
    "en = spacy.load('en_core_web_sm')\n",
    "\n",
    "text = \"This all encompassing experience wore off for a moment and in that moment, my awareness came gasping to the surface of the hallucination and I was able to consider momentarily that I had killed myself by taking an outrageous dose of an online drug and this was the most pathetic death experience of all time.\"\n",
    "\n",
    "doc = en(text)\n",
    "print(type(doc))"
   ]
  },
  {
   "cell_type": "code",
   "execution_count": 36,
   "id": "94c37a7c",
   "metadata": {
    "pycharm": {
     "name": "#%%\n"
    }
   },
   "outputs": [
    {
     "name": "stdout",
     "output_type": "stream",
     "text": [
      "440\n"
     ]
    }
   ],
   "source": [
    "class Document:\n",
    "    def __init__(self, doc: spacy.tokens.doc.Doc):\n",
    "        self.nouns = []\n",
    "        self.verbs = []\n",
    "        self.adjectives = []\n",
    "        self.determiners = []\n",
    "        self.pronouns = []\n",
    "        for token in doc:\n",
    "            if token.pos_ == \"VERB\":\n",
    "                self.verbs.append(token)\n",
    "            elif token.pos_ == \"NOUN\":\n",
    "                self.nouns.append(token)\n",
    "            elif token.pos_ == \"ADJ\":\n",
    "                self.adjectives.append(token)\n",
    "            elif token.pos_ == \"DET\":\n",
    "                self.determiners.append(token)\n",
    "            elif token.pos_ == \"PRON\":\n",
    "                self.pronouns.append(token)\n",
    "            else:\n",
    "                pass\n",
    "                #print(token.pos_)\n",
    "\n",
    "print(Document(doc).pronouns[0].dep)"
   ]
  },
  {
   "cell_type": "code",
   "execution_count": 3,
   "id": "a8588a53",
   "metadata": {
    "pycharm": {
     "name": "#%%\n"
    }
   },
   "outputs": [
    {
     "name": "stdout",
     "output_type": "stream",
     "text": [
      "This          DET   <════╗                                     det\n",
      "all           DET   <══╗ ║                                     det\n",
      "encompassing  VERB  <╗ ║ ║                                     amod\n",
      "experience    NOUN  ═╝═╝═╝<════════════════╗                   nsubj\n",
      "wore          VERB  ═╗═════╗═════════════╗═╝═╗═══════════════╗ ROOT\n",
      "off           ADP   <╝     ║             ║   ║               ║ prt\n",
      "for           ADP   ═══╗═╗<╝             ║   ║               ║ prep\n",
      "a             DET   <╗ ║ ║               ║   ║               ║ det\n",
      "moment        NOUN  ═╝<╝ ║               ║   ║               ║ pobj\n",
      "and           CCONJ <════╝               ║   ║               ║ cc\n",
      "in            ADP   ═══╗<════════════╗   ║   ║               ║ prep\n",
      "that          DET   <╗ ║             ║   ║   ║               ║ det\n",
      "moment        NOUN  ═╝<╝             ║   ║   ║               ║ pobj\n",
      ",             PUNCT <════════════════║═╗ ║   ║               ║ punct\n",
      "my            PRON  <╗               ║ ║ ║   ║               ║ poss\n",
      "awareness     NOUN  ═╝<════════════╗ ║ ║ ║   ║               ║ nsubj\n",
      "came          VERB  ═════════════╗═╝═╝═╝ ║<══╝               ║ conj\n",
      "gasping       VERB  ═══════════╗<╝       ║                   ║ advcl\n",
      "to            ADP   ═════════╗<╝         ║                   ║ prep\n",
      "the           DET   <══════╗ ║           ║                   ║ det\n",
      "surface       NOUN  ═════╗═╝<╝           ║                   ║ pobj\n",
      "of            ADP   ═══╗<╝               ║                   ║ prep\n",
      "the           DET   <╗ ║                 ║                   ║ det\n",
      "hallucination NOUN  ═╝<╝                 ║                   ║ pobj\n",
      "and           CCONJ <════════════════════╝                   ║ cc\n",
      "I             PRON  <══════════════════════════════════╗     ║ nsubj\n",
      "was           AUX   ═══════════════════════════════╗═╗═╝═╗═╗<╝ conj\n",
      "able          ADJ   ═════════════════════════════╗<╝ ║   ║ ║   acomp\n",
      "to            PART  <══════════════════════════╗ ║   ║   ║ ║   aux\n",
      "consider      VERB  ═╗═══════════════════════╗═╝<╝   ║   ║ ║   xcomp\n",
      "momentarily   ADV   <╝                       ║       ║   ║ ║   advmod\n",
      "that          SCONJ <══════════════════════╗ ║       ║   ║ ║   mark\n",
      "I             PRON  <════════════════════╗ ║ ║       ║   ║ ║   nsubj\n",
      "had           AUX   <══════════════════╗ ║ ║ ║       ║   ║ ║   aux\n",
      "killed        VERB  ═╗═══════════════╗═╝═╝═╝<╝       ║   ║ ║   ccomp\n",
      "myself        PRON  <╝               ║               ║   ║ ║   dobj\n",
      "by            ADP   ═══════════════╗<╝               ║   ║ ║   prep\n",
      "taking        VERB  ═════════════╗<╝                 ║   ║ ║   pcomp\n",
      "an            DET   <══════════╗ ║                   ║   ║ ║   det\n",
      "outrageous    ADJ   <════════╗ ║ ║                   ║   ║ ║   amod\n",
      "dose          NOUN  ═══════╗═╝═╝<╝                   ║   ║ ║   dobj\n",
      "of            ADP   ═════╗<╝                         ║   ║ ║   prep\n",
      "an            DET   <══╗ ║                           ║   ║ ║   det\n",
      "online        ADJ   <╗ ║ ║                           ║   ║ ║   amod\n",
      "drug          NOUN  ═╝═╝<╝                           ║   ║ ║   pobj\n",
      "and           CCONJ <════════════════════════════════╝   ║ ║   cc\n",
      "this          PRON  <════════════╗                       ║ ║   nsubj\n",
      "was           AUX   ═══════════╗═╝<══════════════════════╝ ║   conj\n",
      "the           DET   <════════╗ ║                           ║   det\n",
      "most          ADV   <╗       ║ ║                           ║   advmod\n",
      "pathetic      ADJ   ═╝<════╗ ║ ║                           ║   amod\n",
      "death         NOUN  <╗     ║ ║ ║                           ║   compound\n",
      "experience    NOUN  ═╝═══╗═╝═╝<╝                           ║   attr\n",
      "of            ADP   ═══╗<╝                                 ║   prep\n",
      "all           DET   <╗ ║                                   ║   det\n",
      "time          NOUN  ═╝<╝                                   ║   pobj\n",
      ".             PUNCT <══════════════════════════════════════╝   punct\n"
     ]
    }
   ],
   "source": [
    "deplacy.render(doc)"
   ]
  },
  {
   "cell_type": "code",
   "execution_count": null,
   "id": "db217774",
   "metadata": {
    "pycharm": {
     "name": "#%%\n"
    }
   },
   "outputs": [],
   "source": []
  }
 ],
 "metadata": {
  "kernelspec": {
   "display_name": "env",
   "language": "python",
   "name": "env"
  },
  "language_info": {
   "codemirror_mode": {
    "name": "ipython",
    "version": 3
   },
   "file_extension": ".py",
   "mimetype": "text/x-python",
   "name": "python",
   "nbconvert_exporter": "python",
   "pygments_lexer": "ipython3",
   "version": "3.9.13"
  }
 },
 "nbformat": 4,
 "nbformat_minor": 5
}